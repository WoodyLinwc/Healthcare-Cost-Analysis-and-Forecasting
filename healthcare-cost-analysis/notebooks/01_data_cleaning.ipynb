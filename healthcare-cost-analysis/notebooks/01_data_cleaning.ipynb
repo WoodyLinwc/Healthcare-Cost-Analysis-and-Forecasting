{
 "cells": [
  {
   "cell_type": "code",
   "execution_count": 5,
   "metadata": {},
   "outputs": [
    {
     "name": "stdout",
     "output_type": "stream",
     "text": [
      "Error: [Errno 2] No such file or directory: '../data/processed/DSD_PTD_RY24_P04_V10_DY22_BGM.csv'\n"
     ]
    }
   ],
   "source": [
    "import pandas as pd\n",
    "import numpy as np\n",
    "from sqlalchemy import create_engine\n",
    "import plotly.express as px\n",
    "import warnings\n",
    "warnings.filterwarnings('ignore')\n",
    "\n",
    "# Database connection\n",
    "DATABASE_URI = 'postgresql://woodylin@localhost:5432/healthcare_costs'\n",
    "engine = create_engine(DATABASE_URI)\n",
    "\n",
    "def clean_medicare_data(df):\n",
    "    \"\"\"\n",
    "    Clean and process Medicare Part D spending data\n",
    "    \"\"\"\n",
    "    df_cleaned = df.copy()\n",
    "    \n",
    "    # Convert numeric columns\n",
    "    numeric_columns = [col for col in df.columns if any(x in col for x in [\n",
    "        'Tot_Spndng_', 'Tot_Dsg_Unts_', 'Tot_Clms_', 'Tot_Benes_',\n",
    "        'Avg_Spnd_Per_Dsg_Unt_Wghtd_', 'Avg_Spnd_Per_Clm_', 'Avg_Spnd_Per_Bene_'\n",
    "    ])]\n",
    "    \n",
    "    for col in numeric_columns:\n",
    "        df_cleaned[col] = pd.to_numeric(df_cleaned[col], errors='coerce')\n",
    "    \n",
    "    # Convert outlier flags to boolean\n",
    "    outlier_columns = [col for col in df.columns if 'Outlier_Flag_' in col]\n",
    "    for col in outlier_columns:\n",
    "        df_cleaned[col] = df_cleaned[col].astype(bool)\n",
    "    \n",
    "    # Add derived metrics\n",
    "    years = ['2018', '2019', '2020', '2021', '2022']\n",
    "    for year in years:\n",
    "        # Calculate cost per claim\n",
    "        df_cleaned[f'Cost_Per_Claim_{year}'] = (\n",
    "            df_cleaned[f'Tot_Spndng_{year}'] / df_cleaned[f'Tot_Clms_{year}']\n",
    "        )\n",
    "        \n",
    "        # Calculate cost per beneficiary\n",
    "        df_cleaned[f'Cost_Per_Beneficiary_{year}'] = (\n",
    "            df_cleaned[f'Tot_Spndng_{year}'] / df_cleaned[f'Tot_Benes_{year}']\n",
    "        )\n",
    "    \n",
    "    return df_cleaned\n",
    "\n",
    "# Read the data\n",
    "try:\n",
    "    df = pd.read_csv('../data/processed/DSD_PTD_RY24_P04_V10_DY22_BGM.csv')\n",
    "    print(\"Data loaded successfully!\")\n",
    "    print(f\"Number of records: {len(df)}\")\n",
    "    print(\"\\nColumns in dataset:\")\n",
    "    print(df.columns.tolist())\n",
    "    \n",
    "    # Clean the data\n",
    "    df_cleaned = clean_medicare_data(df)\n",
    "    \n",
    "    # Save to PostgreSQL\n",
    "    df_cleaned.to_sql('medicare_spending', engine, if_exists='replace', index=False)\n",
    "    print(\"\\nData saved to PostgreSQL successfully!\")\n",
    "    \n",
    "    # Save cleaned CSV for Tableau\n",
    "    df_cleaned.to_csv('../data/processed/cleaned_medicare_spending.csv', index=False)\n",
    "    print(\"\\nCleaned CSV saved for Tableau!\")\n",
    "    \n",
    "    # Display basic statistics\n",
    "    print(\"\\nBasic statistics for 2022 spending:\")\n",
    "    print(df_cleaned['Tot_Spndng_2022'].describe())\n",
    "    \n",
    "except Exception as e:\n",
    "    print(f\"Error: {e}\")"
   ]
  }
 ],
 "metadata": {
  "kernelspec": {
   "display_name": "Python 3",
   "language": "python",
   "name": "python3"
  },
  "language_info": {
   "codemirror_mode": {
    "name": "ipython",
    "version": 3
   },
   "file_extension": ".py",
   "mimetype": "text/x-python",
   "name": "python",
   "nbconvert_exporter": "python",
   "pygments_lexer": "ipython3",
   "version": "3.10.16"
  }
 },
 "nbformat": 4,
 "nbformat_minor": 2
}

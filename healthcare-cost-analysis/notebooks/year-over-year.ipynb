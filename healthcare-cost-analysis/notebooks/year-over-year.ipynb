{
 "cells": [
  {
   "cell_type": "code",
   "execution_count": null,
   "metadata": {},
   "outputs": [],
   "source": [
    "import pandas as pd\n",
    "\n",
    "# Read the original data\n",
    "df = pd.read_csv('../data/processed/cleaned_medicare_spending.csv')\n",
    "\n",
    "# Create year-over-year format\n",
    "years = ['2018', '2019', '2020', '2021', '2022']\n",
    "spending_data = []\n",
    "\n",
    "for year in years:\n",
    "    yearly_spending = df[['Brnd_Name', f'Tot_Spndng_{year}']].copy()\n",
    "    yearly_spending['Year'] = year\n",
    "    yearly_spending = yearly_spending.rename(columns={f'Tot_Spndng_{year}': 'Total_Spending'})\n",
    "    spending_data.append(yearly_spending)\n",
    "\n",
    "# Combine all years\n",
    "trend_data = pd.concat(spending_data)\n",
    "\n",
    "# Get top 5 drugs by 2022 spending\n",
    "top_5_drugs = df.nlargest(5, 'Tot_Spndng_2022')['Brnd_Name'].tolist()\n",
    "\n",
    "# Filter for top 5 drugs\n",
    "trend_data = trend_data[trend_data['Brnd_Name'].isin(top_5_drugs)]\n",
    "\n",
    "# Save for Tableau\n",
    "trend_data.to_csv('../data/processed/spending_trends.csv', index=False)"
   ]
  }
 ],
 "metadata": {
  "language_info": {
   "name": "python"
  }
 },
 "nbformat": 4,
 "nbformat_minor": 2
}

{
 "cells": [
  {
   "cell_type": "code",
   "execution_count": 1,
   "metadata": {},
   "outputs": [
    {
     "name": "stdout",
     "output_type": "stream",
     "text": [
      "Successfully connected to PostgreSQL!\n"
     ]
    }
   ],
   "source": [
    "# In your first notebook, test the connection:\n",
    "from sqlalchemy import create_engine\n",
    "\n",
    "# Replace with your actual PostgreSQL credentials\n",
    "DATABASE_URI = 'postgresql://woodylin@localhost:5432/healthcare_costs'\n",
    "\n",
    "try:\n",
    "    engine = create_engine(DATABASE_URI)\n",
    "    connection = engine.connect()\n",
    "    print(\"Successfully connected to PostgreSQL!\")\n",
    "except Exception as e:\n",
    "    print(f\"Error connecting to PostgreSQL: {e}\")\n",
    "finally:\n",
    "    connection.close()"
   ]
  }
 ],
 "metadata": {
  "kernelspec": {
   "display_name": "Python 3",
   "language": "python",
   "name": "python3"
  },
  "language_info": {
   "codemirror_mode": {
    "name": "ipython",
    "version": 3
   },
   "file_extension": ".py",
   "mimetype": "text/x-python",
   "name": "python",
   "nbconvert_exporter": "python",
   "pygments_lexer": "ipython3",
   "version": "3.10.16"
  }
 },
 "nbformat": 4,
 "nbformat_minor": 2
}

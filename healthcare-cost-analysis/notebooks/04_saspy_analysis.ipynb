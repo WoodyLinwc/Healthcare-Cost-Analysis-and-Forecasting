{
 "cells": [
  {
   "cell_type": "code",
   "execution_count": 2,
   "metadata": {},
   "outputs": [
    {
     "name": "stdout",
     "output_type": "stream",
     "text": [
      "Using SAS Config named: default\n",
      "The OS Error was:\n",
      "No such file or directory\n",
      "SAS Connection failed. No connection established. Double check your settings in sascfg_personal.py file.\n",
      "Attempted to run program /opt/sasinside/SASHome/SASFoundation/9.4/bin/sas_u8 with the following parameters:['/opt/sasinside/SASHome/SASFoundation/9.4/bin/sas_u8', '-nodms', '-stdio', '-terminal', '-nosyntaxcheck', '-pagesize', 'MAX', '']\n",
      "If no OS Error above, try running the following command (where saspy is running) manually to see what is wrong:\n",
      "/opt/sasinside/SASHome/SASFoundation/9.4/bin/sas_u8 -nodms -stdio -terminal -nosyntaxcheck -pagesize MAX  \n",
      "\n",
      "SAS process has terminated unexpectedly. Pid State= (10407, 64000)\n",
      "\n"
     ]
    },
    {
     "ename": "SASIOConnectionTerminated",
     "evalue": "No SAS process attached. SAS process has terminated unexpectedly.\n<class 'Exception'>",
     "output_type": "error",
     "traceback": [
      "\u001b[0;31m---------------------------------------------------------------------------\u001b[0m",
      "\u001b[0;31mSASIOConnectionTerminated\u001b[0m                 Traceback (most recent call last)",
      "\u001b[1;32m/Users/woodylin/Documents/Healthcare-Cost-Analysis-and-Forecasting/healthcare-cost-analysis/notebooks/04_saspy_analysis.ipynb Cell 1\u001b[0m line \u001b[0;36m8\n\u001b[1;32m      <a href='vscode-notebook-cell:/Users/woodylin/Documents/Healthcare-Cost-Analysis-and-Forecasting/healthcare-cost-analysis/notebooks/04_saspy_analysis.ipynb#W0sZmlsZQ%3D%3D?line=4'>5</a>\u001b[0m \u001b[39mimport\u001b[39;00m\u001b[39m \u001b[39m\u001b[39mmatplotlib\u001b[39;00m\u001b[39m.\u001b[39;00m\u001b[39mpyplot\u001b[39;00m\u001b[39m \u001b[39m\u001b[39mas\u001b[39;00m\u001b[39m \u001b[39m\u001b[39mplt\u001b[39;00m\n\u001b[1;32m      <a href='vscode-notebook-cell:/Users/woodylin/Documents/Healthcare-Cost-Analysis-and-Forecasting/healthcare-cost-analysis/notebooks/04_saspy_analysis.ipynb#W0sZmlsZQ%3D%3D?line=6'>7</a>\u001b[0m \u001b[39m# Initialize SAS session\u001b[39;00m\n\u001b[0;32m----> <a href='vscode-notebook-cell:/Users/woodylin/Documents/Healthcare-Cost-Analysis-and-Forecasting/healthcare-cost-analysis/notebooks/04_saspy_analysis.ipynb#W0sZmlsZQ%3D%3D?line=7'>8</a>\u001b[0m sas \u001b[39m=\u001b[39m saspy\u001b[39m.\u001b[39;49mSASsession()\n\u001b[1;32m     <a href='vscode-notebook-cell:/Users/woodylin/Documents/Healthcare-Cost-Analysis-and-Forecasting/healthcare-cost-analysis/notebooks/04_saspy_analysis.ipynb#W0sZmlsZQ%3D%3D?line=9'>10</a>\u001b[0m \u001b[39m# Read the cleaned data\u001b[39;00m\n\u001b[1;32m     <a href='vscode-notebook-cell:/Users/woodylin/Documents/Healthcare-Cost-Analysis-and-Forecasting/healthcare-cost-analysis/notebooks/04_saspy_analysis.ipynb#W0sZmlsZQ%3D%3D?line=10'>11</a>\u001b[0m df \u001b[39m=\u001b[39m pd\u001b[39m.\u001b[39mread_csv(\u001b[39m'\u001b[39m\u001b[39m../data/processed/cleaned_medicare_spending.csv\u001b[39m\u001b[39m'\u001b[39m)\n",
      "File \u001b[0;32m/opt/homebrew/lib/python3.10/site-packages/saspy/sasbase.py:590\u001b[0m, in \u001b[0;36mSASsession.__init__\u001b[0;34m(self, **kwargs)\u001b[0m\n\u001b[1;32m    588\u001b[0m \u001b[39mif\u001b[39;00m \u001b[39mself\u001b[39m\u001b[39m.\u001b[39msascfg\u001b[39m.\u001b[39mmode \u001b[39min\u001b[39;00m [\u001b[39m'\u001b[39m\u001b[39mSTDIO\u001b[39m\u001b[39m'\u001b[39m, \u001b[39m'\u001b[39m\u001b[39mSSH\u001b[39m\u001b[39m'\u001b[39m, \u001b[39m'\u001b[39m\u001b[39m'\u001b[39m]:\n\u001b[1;32m    589\u001b[0m     \u001b[39mif\u001b[39;00m os\u001b[39m.\u001b[39mname \u001b[39m!=\u001b[39m \u001b[39m'\u001b[39m\u001b[39mnt\u001b[39m\u001b[39m'\u001b[39m \u001b[39mor\u001b[39;00m \u001b[39mself\u001b[39m\u001b[39m.\u001b[39msascfg\u001b[39m.\u001b[39mmode \u001b[39m==\u001b[39m \u001b[39m'\u001b[39m\u001b[39mSSH\u001b[39m\u001b[39m'\u001b[39m:\n\u001b[0;32m--> 590\u001b[0m         \u001b[39mself\u001b[39m\u001b[39m.\u001b[39m_io \u001b[39m=\u001b[39m SASsessionSTDIO(sascfgname\u001b[39m=\u001b[39;49m\u001b[39mself\u001b[39;49m\u001b[39m.\u001b[39;49msascfg\u001b[39m.\u001b[39;49mname, sb\u001b[39m=\u001b[39;49m\u001b[39mself\u001b[39;49m, \u001b[39m*\u001b[39;49m\u001b[39m*\u001b[39;49mkwargs)\n\u001b[1;32m    591\u001b[0m     \u001b[39melse\u001b[39;00m:\n\u001b[1;32m    592\u001b[0m         \u001b[39mraise\u001b[39;00m SASIONotSupportedError(\u001b[39mself\u001b[39m\u001b[39m.\u001b[39msascfg\u001b[39m.\u001b[39mmode, alts\u001b[39m=\u001b[39m[\u001b[39m'\u001b[39m\u001b[39mIOM\u001b[39m\u001b[39m'\u001b[39m])\n",
      "File \u001b[0;32m/opt/homebrew/lib/python3.10/site-packages/saspy/sasiostdio.py:305\u001b[0m, in \u001b[0;36mSASsessionSTDIO.__init__\u001b[0;34m(self, **kwargs)\u001b[0m\n\u001b[1;32m    302\u001b[0m \u001b[39mself\u001b[39m\u001b[39m.\u001b[39m_log     \u001b[39m=\u001b[39m \u001b[39m\"\u001b[39m\u001b[39m\"\u001b[39m\n\u001b[1;32m    303\u001b[0m \u001b[39mself\u001b[39m\u001b[39m.\u001b[39msascfg   \u001b[39m=\u001b[39m SASconfigSTDIO(\u001b[39mself\u001b[39m, \u001b[39m*\u001b[39m\u001b[39m*\u001b[39mkwargs)\n\u001b[0;32m--> 305\u001b[0m \u001b[39mself\u001b[39;49m\u001b[39m.\u001b[39;49m_startsas()\n\u001b[1;32m    306\u001b[0m \u001b[39mreturn\u001b[39;00m\n",
      "File \u001b[0;32m/opt/homebrew/lib/python3.10/site-packages/saspy/sasiostdio.py:526\u001b[0m, in \u001b[0;36mSASsessionSTDIO._startsas\u001b[0;34m(self)\u001b[0m\n\u001b[1;32m    524\u001b[0m \u001b[39mif\u001b[39;00m enc \u001b[39m==\u001b[39m \u001b[39m'\u001b[39m\u001b[39m'\u001b[39m:\n\u001b[1;32m    525\u001b[0m    \u001b[39mself\u001b[39m\u001b[39m.\u001b[39msascfg\u001b[39m.\u001b[39mencoding \u001b[39m=\u001b[39m \u001b[39m'\u001b[39m\u001b[39mutf-8\u001b[39m\u001b[39m'\u001b[39m\n\u001b[0;32m--> 526\u001b[0m ll \u001b[39m=\u001b[39m \u001b[39mself\u001b[39;49m\u001b[39m.\u001b[39;49msubmit(\u001b[39m\"\u001b[39;49m\u001b[39moptions svgtitle=\u001b[39;49m\u001b[39m'\u001b[39;49m\u001b[39msvgtitle\u001b[39;49m\u001b[39m'\u001b[39;49m\u001b[39m; options validvarname=any validmemname=extend; ods graphics on;\u001b[39;49m\u001b[39m\"\u001b[39;49m, \u001b[39m\"\u001b[39;49m\u001b[39mtext\u001b[39;49m\u001b[39m\"\u001b[39;49m)\n\u001b[1;32m    527\u001b[0m \u001b[39mself\u001b[39m\u001b[39m.\u001b[39msascfg\u001b[39m.\u001b[39mencoding \u001b[39m=\u001b[39m enc\n\u001b[1;32m    528\u001b[0m \u001b[39mif\u001b[39;00m \u001b[39mself\u001b[39m\u001b[39m.\u001b[39mpid \u001b[39mis\u001b[39;00m \u001b[39mNone\u001b[39;00m:\n",
      "File \u001b[0;32m/opt/homebrew/lib/python3.10/site-packages/saspy/sasiostdio.py:999\u001b[0m, in \u001b[0;36mSASsessionSTDIO.submit\u001b[0;34m(self, code, results, prompt, **kwargs)\u001b[0m\n\u001b[1;32m    996\u001b[0m       \u001b[39mself\u001b[39m\u001b[39m.\u001b[39m_sb\u001b[39m.\u001b[39mSASpid \u001b[39m=\u001b[39m \u001b[39mNone\u001b[39;00m\n\u001b[1;32m    997\u001b[0m       logger\u001b[39m.\u001b[39mfatal(\u001b[39m'\u001b[39m\u001b[39mSAS process has terminated unexpectedly. Pid State= \u001b[39m\u001b[39m'\u001b[39m \u001b[39m+\u001b[39m\n\u001b[1;32m    998\u001b[0m                    \u001b[39mstr\u001b[39m(rc)\u001b[39m+\u001b[39m\u001b[39m'\u001b[39m\u001b[39m\\n\u001b[39;00m\u001b[39m'\u001b[39m\u001b[39m+\u001b[39mlogf\u001b[39m.\u001b[39mdecode(\u001b[39mself\u001b[39m\u001b[39m.\u001b[39msascfg\u001b[39m.\u001b[39mencoding, errors\u001b[39m=\u001b[39m\u001b[39m'\u001b[39m\u001b[39mreplace\u001b[39m\u001b[39m'\u001b[39m))\n\u001b[0;32m--> 999\u001b[0m       \u001b[39mraise\u001b[39;00m SASIOConnectionTerminated(\u001b[39mException\u001b[39;00m)\n\u001b[1;32m   1001\u001b[0m \u001b[39mif\u001b[39;00m pos \u001b[39m<\u001b[39m end:\n\u001b[1;32m   1002\u001b[0m    out \u001b[39m=\u001b[39m \u001b[39mself\u001b[39m\u001b[39m.\u001b[39mstdin\u001b[39m.\u001b[39mwrite(pgm[pos:\u001b[39mmin\u001b[39m(pos\u001b[39m+\u001b[39m\u001b[39m4096\u001b[39m,end)])\n",
      "\u001b[0;31mSASIOConnectionTerminated\u001b[0m: No SAS process attached. SAS process has terminated unexpectedly.\n<class 'Exception'>"
     ]
    }
   ],
   "source": [
    "# 04_saspy_analysis.ipynb, still in progress\n",
    "\n",
    "import saspy\n",
    "import pandas as pd\n",
    "import matplotlib.pyplot as plt\n",
    "\n",
    "# Initialize SAS session\n",
    "sas = saspy.SASsession()\n",
    "\n",
    "# Read the cleaned data\n",
    "df = pd.read_csv('../data/processed/cleaned_medicare_spending.csv')\n",
    "\n",
    "# Convert pandas DataFrame to SAS dataset\n",
    "sas_data = sas.df2sd(df, 'medicare_data')\n",
    "\n",
    "# Example SAS analysis using SASPy\n",
    "sas_code = \"\"\"\n",
    "proc means data=medicare_data mean median min max;\n",
    "    var Tot_Spndng_2022 Tot_Benes_2022;\n",
    "run;\n",
    "\n",
    "proc freq data=medicare_data;\n",
    "    tables Mftr_Name / maxlevels=10;\n",
    "run;\n",
    "\n",
    "proc sgplot data=medicare_data;\n",
    "    vbar Mftr_Name / response=Tot_Spndng_2022;\n",
    "    where Tot_Spndng_2022 > 1000000000;\n",
    "run;\n",
    "\"\"\"\n",
    "\n",
    "# Run SAS code\n",
    "sas.submit(sas_code)"
   ]
  }
 ],
 "metadata": {
  "kernelspec": {
   "display_name": "Python 3",
   "language": "python",
   "name": "python3"
  },
  "language_info": {
   "codemirror_mode": {
    "name": "ipython",
    "version": 3
   },
   "file_extension": ".py",
   "mimetype": "text/x-python",
   "name": "python",
   "nbconvert_exporter": "python",
   "pygments_lexer": "ipython3",
   "version": "3.10.16"
  }
 },
 "nbformat": 4,
 "nbformat_minor": 2
}

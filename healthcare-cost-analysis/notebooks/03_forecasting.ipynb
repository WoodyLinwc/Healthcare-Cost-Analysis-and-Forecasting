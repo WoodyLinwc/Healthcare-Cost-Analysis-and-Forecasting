{
 "cells": [
  {
   "cell_type": "code",
   "execution_count": 2,
   "metadata": {},
   "outputs": [
    {
     "name": "stdout",
     "output_type": "stream",
     "text": [
      "Starting Medicare Part D Spending Forecast Analysis...\n",
      "\n",
      "Historical Spending Data (Billions $):\n",
      "2018-01-01    327.033135\n",
      "2019-01-01    362.151394\n",
      "2020-01-01    395.873623\n",
      "2021-01-01    431.217677\n",
      "2022-01-01    480.863549\n",
      "Name: total_spending, dtype: float64\n",
      "\n",
      "Exponential Smoothing Forecast for 2023-2024 (Billions $):\n",
      "              forecast       lower       upper\n",
      "2023-01-01  515.906964  479.895108  551.918819\n",
      "2024-01-01  551.023041  515.011185  587.034896\n",
      "RUNNING THE L-BFGS-B CODE\n",
      "\n",
      "           * * *\n",
      "\n",
      "Machine precision = 2.220D-16\n",
      " N =            3     M =           10\n",
      "\n",
      "At X0         0 variables are exactly at the bounds\n",
      "\n",
      "At iterate    0    f=  3.32581D+01    |proj g|=  7.41658D+01\n",
      "\n",
      "At iterate    5    f=  2.80929D+01    |proj g|=  1.85350D+01\n",
      "\n",
      "At iterate   10    f=  2.12792D+01    |proj g|=  7.21469D+00\n",
      "\n",
      "At iterate   15    f=  1.96207D+01    |proj g|=  1.56824D+00\n",
      "\n",
      "At iterate   20    f=  1.93383D+01    |proj g|=  1.05005D+00\n",
      "\n",
      "At iterate   25    f=  1.92860D+01    |proj g|=  2.94214D-01\n",
      "\n",
      "At iterate   30    f=  1.92644D+01    |proj g|=  1.81507D-01\n",
      "\n",
      "At iterate   35    f=  1.92563D+01    |proj g|=  1.16025D-01\n",
      "\n",
      "At iterate   40    f=  1.92529D+01    |proj g|=  7.50822D-02\n",
      "\n",
      "At iterate   45    f=  1.92510D+01    |proj g|=  3.65456D-02\n",
      "\n",
      "At iterate   50    f=  1.92501D+01    |proj g|=  1.85641D-02\n",
      "\n",
      "           * * *\n",
      "\n",
      "Tit   = total number of iterations\n",
      "Tnf   = total number of function evaluations\n",
      "Tnint = total number of segments explored during Cauchy searches\n",
      "Skip  = number of BFGS updates skipped\n",
      "Nact  = number of active bounds at final generalized Cauchy point\n",
      "Projg = norm of the final projected gradient\n",
      "F     = final function value\n",
      "\n",
      "           * * *\n",
      "\n",
      "   N    Tit     Tnf  Tnint  Skip  Nact     Projg        F\n",
      "    3     50     57      1     0     0   1.856D-02   1.925D+01\n",
      "  F =   19.250093382622460     \n",
      "\n",
      "STOP: TOTAL NO. of ITERATIONS REACHED LIMIT                 \n",
      "\n",
      "SARIMA Forecast for 2023-2024 (Billions $):\n",
      "              forecast       lower       upper\n",
      "2023-01-01  519.189262  506.036299  532.342224\n",
      "2024-01-01  557.500061  538.222890  576.777233\n"
     ]
    },
    {
     "name": "stderr",
     "output_type": "stream",
     "text": [
      " This problem is unconstrained.\n"
     ]
    },
    {
     "data": {
      "application/vnd.plotly.v1+json": {
       "config": {
        "plotlyServerURL": "https://plot.ly"
       },
       "data": [
        {
         "mode": "lines+markers",
         "name": "Historical Data",
         "type": "scatter",
         "x": [
          "2018-01-01T00:00:00.000000000",
          "2019-01-01T00:00:00.000000000",
          "2020-01-01T00:00:00.000000000",
          "2021-01-01T00:00:00.000000000",
          "2022-01-01T00:00:00.000000000"
         ],
         "y": {
          "bdata": "s1BpuIdwdEBKtr0bbKJ2QNmfxVv6vXhAjVJkmnvzekAGdWkY0Q1+QA==",
          "dtype": "f8"
         }
        },
        {
         "line": {
          "dash": "dash"
         },
         "mode": "lines",
         "name": "Exp Smoothing Forecast",
         "type": "scatter",
         "x": [
          "2023-01-01T00:00:00.000000000",
          "2024-01-01T00:00:00.000000000"
         ],
         "y": {
          "bdata": "fl04dkEfgECQb+0vLziBQA==",
          "dtype": "f8"
         }
        },
        {
         "line": {
          "dash": "dot"
         },
         "mode": "lines",
         "name": "SARIMA Forecast",
         "type": "scatter",
         "x": [
          "2023-01-01T00:00:00.000000000",
          "2024-01-01T00:00:00.000000000"
         ],
         "y": {
          "bdata": "ARymm4M5gEBFZzMgAGyBQA==",
          "dtype": "f8"
         }
        },
        {
         "fill": "toself",
         "fillcolor": "rgba(0,100,80,0.2)",
         "line": {
          "color": "rgba(255,255,255,0)"
         },
         "name": "Exp Smoothing CI",
         "type": "scatter",
         "x": [
          "2023-01-01T00:00:00",
          "2024-01-01T00:00:00",
          "2024-01-01T00:00:00",
          "2023-01-01T00:00:00"
         ],
         "y": [
          551.9188191671334,
          587.0348960319616,
          515.011185234379,
          479.8951083695509
         ]
        }
       ],
       "layout": {
        "showlegend": true,
        "template": {
         "data": {
          "bar": [
           {
            "error_x": {
             "color": "#2a3f5f"
            },
            "error_y": {
             "color": "#2a3f5f"
            },
            "marker": {
             "line": {
              "color": "#E5ECF6",
              "width": 0.5
             },
             "pattern": {
              "fillmode": "overlay",
              "size": 10,
              "solidity": 0.2
             }
            },
            "type": "bar"
           }
          ],
          "barpolar": [
           {
            "marker": {
             "line": {
              "color": "#E5ECF6",
              "width": 0.5
             },
             "pattern": {
              "fillmode": "overlay",
              "size": 10,
              "solidity": 0.2
             }
            },
            "type": "barpolar"
           }
          ],
          "carpet": [
           {
            "aaxis": {
             "endlinecolor": "#2a3f5f",
             "gridcolor": "white",
             "linecolor": "white",
             "minorgridcolor": "white",
             "startlinecolor": "#2a3f5f"
            },
            "baxis": {
             "endlinecolor": "#2a3f5f",
             "gridcolor": "white",
             "linecolor": "white",
             "minorgridcolor": "white",
             "startlinecolor": "#2a3f5f"
            },
            "type": "carpet"
           }
          ],
          "choropleth": [
           {
            "colorbar": {
             "outlinewidth": 0,
             "ticks": ""
            },
            "type": "choropleth"
           }
          ],
          "contour": [
           {
            "colorbar": {
             "outlinewidth": 0,
             "ticks": ""
            },
            "colorscale": [
             [
              0,
              "#0d0887"
             ],
             [
              0.1111111111111111,
              "#46039f"
             ],
             [
              0.2222222222222222,
              "#7201a8"
             ],
             [
              0.3333333333333333,
              "#9c179e"
             ],
             [
              0.4444444444444444,
              "#bd3786"
             ],
             [
              0.5555555555555556,
              "#d8576b"
             ],
             [
              0.6666666666666666,
              "#ed7953"
             ],
             [
              0.7777777777777778,
              "#fb9f3a"
             ],
             [
              0.8888888888888888,
              "#fdca26"
             ],
             [
              1,
              "#f0f921"
             ]
            ],
            "type": "contour"
           }
          ],
          "contourcarpet": [
           {
            "colorbar": {
             "outlinewidth": 0,
             "ticks": ""
            },
            "type": "contourcarpet"
           }
          ],
          "heatmap": [
           {
            "colorbar": {
             "outlinewidth": 0,
             "ticks": ""
            },
            "colorscale": [
             [
              0,
              "#0d0887"
             ],
             [
              0.1111111111111111,
              "#46039f"
             ],
             [
              0.2222222222222222,
              "#7201a8"
             ],
             [
              0.3333333333333333,
              "#9c179e"
             ],
             [
              0.4444444444444444,
              "#bd3786"
             ],
             [
              0.5555555555555556,
              "#d8576b"
             ],
             [
              0.6666666666666666,
              "#ed7953"
             ],
             [
              0.7777777777777778,
              "#fb9f3a"
             ],
             [
              0.8888888888888888,
              "#fdca26"
             ],
             [
              1,
              "#f0f921"
             ]
            ],
            "type": "heatmap"
           }
          ],
          "histogram": [
           {
            "marker": {
             "pattern": {
              "fillmode": "overlay",
              "size": 10,
              "solidity": 0.2
             }
            },
            "type": "histogram"
           }
          ],
          "histogram2d": [
           {
            "colorbar": {
             "outlinewidth": 0,
             "ticks": ""
            },
            "colorscale": [
             [
              0,
              "#0d0887"
             ],
             [
              0.1111111111111111,
              "#46039f"
             ],
             [
              0.2222222222222222,
              "#7201a8"
             ],
             [
              0.3333333333333333,
              "#9c179e"
             ],
             [
              0.4444444444444444,
              "#bd3786"
             ],
             [
              0.5555555555555556,
              "#d8576b"
             ],
             [
              0.6666666666666666,
              "#ed7953"
             ],
             [
              0.7777777777777778,
              "#fb9f3a"
             ],
             [
              0.8888888888888888,
              "#fdca26"
             ],
             [
              1,
              "#f0f921"
             ]
            ],
            "type": "histogram2d"
           }
          ],
          "histogram2dcontour": [
           {
            "colorbar": {
             "outlinewidth": 0,
             "ticks": ""
            },
            "colorscale": [
             [
              0,
              "#0d0887"
             ],
             [
              0.1111111111111111,
              "#46039f"
             ],
             [
              0.2222222222222222,
              "#7201a8"
             ],
             [
              0.3333333333333333,
              "#9c179e"
             ],
             [
              0.4444444444444444,
              "#bd3786"
             ],
             [
              0.5555555555555556,
              "#d8576b"
             ],
             [
              0.6666666666666666,
              "#ed7953"
             ],
             [
              0.7777777777777778,
              "#fb9f3a"
             ],
             [
              0.8888888888888888,
              "#fdca26"
             ],
             [
              1,
              "#f0f921"
             ]
            ],
            "type": "histogram2dcontour"
           }
          ],
          "mesh3d": [
           {
            "colorbar": {
             "outlinewidth": 0,
             "ticks": ""
            },
            "type": "mesh3d"
           }
          ],
          "parcoords": [
           {
            "line": {
             "colorbar": {
              "outlinewidth": 0,
              "ticks": ""
             }
            },
            "type": "parcoords"
           }
          ],
          "pie": [
           {
            "automargin": true,
            "type": "pie"
           }
          ],
          "scatter": [
           {
            "fillpattern": {
             "fillmode": "overlay",
             "size": 10,
             "solidity": 0.2
            },
            "type": "scatter"
           }
          ],
          "scatter3d": [
           {
            "line": {
             "colorbar": {
              "outlinewidth": 0,
              "ticks": ""
             }
            },
            "marker": {
             "colorbar": {
              "outlinewidth": 0,
              "ticks": ""
             }
            },
            "type": "scatter3d"
           }
          ],
          "scattercarpet": [
           {
            "marker": {
             "colorbar": {
              "outlinewidth": 0,
              "ticks": ""
             }
            },
            "type": "scattercarpet"
           }
          ],
          "scattergeo": [
           {
            "marker": {
             "colorbar": {
              "outlinewidth": 0,
              "ticks": ""
             }
            },
            "type": "scattergeo"
           }
          ],
          "scattergl": [
           {
            "marker": {
             "colorbar": {
              "outlinewidth": 0,
              "ticks": ""
             }
            },
            "type": "scattergl"
           }
          ],
          "scattermap": [
           {
            "marker": {
             "colorbar": {
              "outlinewidth": 0,
              "ticks": ""
             }
            },
            "type": "scattermap"
           }
          ],
          "scattermapbox": [
           {
            "marker": {
             "colorbar": {
              "outlinewidth": 0,
              "ticks": ""
             }
            },
            "type": "scattermapbox"
           }
          ],
          "scatterpolar": [
           {
            "marker": {
             "colorbar": {
              "outlinewidth": 0,
              "ticks": ""
             }
            },
            "type": "scatterpolar"
           }
          ],
          "scatterpolargl": [
           {
            "marker": {
             "colorbar": {
              "outlinewidth": 0,
              "ticks": ""
             }
            },
            "type": "scatterpolargl"
           }
          ],
          "scatterternary": [
           {
            "marker": {
             "colorbar": {
              "outlinewidth": 0,
              "ticks": ""
             }
            },
            "type": "scatterternary"
           }
          ],
          "surface": [
           {
            "colorbar": {
             "outlinewidth": 0,
             "ticks": ""
            },
            "colorscale": [
             [
              0,
              "#0d0887"
             ],
             [
              0.1111111111111111,
              "#46039f"
             ],
             [
              0.2222222222222222,
              "#7201a8"
             ],
             [
              0.3333333333333333,
              "#9c179e"
             ],
             [
              0.4444444444444444,
              "#bd3786"
             ],
             [
              0.5555555555555556,
              "#d8576b"
             ],
             [
              0.6666666666666666,
              "#ed7953"
             ],
             [
              0.7777777777777778,
              "#fb9f3a"
             ],
             [
              0.8888888888888888,
              "#fdca26"
             ],
             [
              1,
              "#f0f921"
             ]
            ],
            "type": "surface"
           }
          ],
          "table": [
           {
            "cells": {
             "fill": {
              "color": "#EBF0F8"
             },
             "line": {
              "color": "white"
             }
            },
            "header": {
             "fill": {
              "color": "#C8D4E3"
             },
             "line": {
              "color": "white"
             }
            },
            "type": "table"
           }
          ]
         },
         "layout": {
          "annotationdefaults": {
           "arrowcolor": "#2a3f5f",
           "arrowhead": 0,
           "arrowwidth": 1
          },
          "autotypenumbers": "strict",
          "coloraxis": {
           "colorbar": {
            "outlinewidth": 0,
            "ticks": ""
           }
          },
          "colorscale": {
           "diverging": [
            [
             0,
             "#8e0152"
            ],
            [
             0.1,
             "#c51b7d"
            ],
            [
             0.2,
             "#de77ae"
            ],
            [
             0.3,
             "#f1b6da"
            ],
            [
             0.4,
             "#fde0ef"
            ],
            [
             0.5,
             "#f7f7f7"
            ],
            [
             0.6,
             "#e6f5d0"
            ],
            [
             0.7,
             "#b8e186"
            ],
            [
             0.8,
             "#7fbc41"
            ],
            [
             0.9,
             "#4d9221"
            ],
            [
             1,
             "#276419"
            ]
           ],
           "sequential": [
            [
             0,
             "#0d0887"
            ],
            [
             0.1111111111111111,
             "#46039f"
            ],
            [
             0.2222222222222222,
             "#7201a8"
            ],
            [
             0.3333333333333333,
             "#9c179e"
            ],
            [
             0.4444444444444444,
             "#bd3786"
            ],
            [
             0.5555555555555556,
             "#d8576b"
            ],
            [
             0.6666666666666666,
             "#ed7953"
            ],
            [
             0.7777777777777778,
             "#fb9f3a"
            ],
            [
             0.8888888888888888,
             "#fdca26"
            ],
            [
             1,
             "#f0f921"
            ]
           ],
           "sequentialminus": [
            [
             0,
             "#0d0887"
            ],
            [
             0.1111111111111111,
             "#46039f"
            ],
            [
             0.2222222222222222,
             "#7201a8"
            ],
            [
             0.3333333333333333,
             "#9c179e"
            ],
            [
             0.4444444444444444,
             "#bd3786"
            ],
            [
             0.5555555555555556,
             "#d8576b"
            ],
            [
             0.6666666666666666,
             "#ed7953"
            ],
            [
             0.7777777777777778,
             "#fb9f3a"
            ],
            [
             0.8888888888888888,
             "#fdca26"
            ],
            [
             1,
             "#f0f921"
            ]
           ]
          },
          "colorway": [
           "#636efa",
           "#EF553B",
           "#00cc96",
           "#ab63fa",
           "#FFA15A",
           "#19d3f3",
           "#FF6692",
           "#B6E880",
           "#FF97FF",
           "#FECB52"
          ],
          "font": {
           "color": "#2a3f5f"
          },
          "geo": {
           "bgcolor": "white",
           "lakecolor": "white",
           "landcolor": "#E5ECF6",
           "showlakes": true,
           "showland": true,
           "subunitcolor": "white"
          },
          "hoverlabel": {
           "align": "left"
          },
          "hovermode": "closest",
          "mapbox": {
           "style": "light"
          },
          "paper_bgcolor": "white",
          "plot_bgcolor": "#E5ECF6",
          "polar": {
           "angularaxis": {
            "gridcolor": "white",
            "linecolor": "white",
            "ticks": ""
           },
           "bgcolor": "#E5ECF6",
           "radialaxis": {
            "gridcolor": "white",
            "linecolor": "white",
            "ticks": ""
           }
          },
          "scene": {
           "xaxis": {
            "backgroundcolor": "#E5ECF6",
            "gridcolor": "white",
            "gridwidth": 2,
            "linecolor": "white",
            "showbackground": true,
            "ticks": "",
            "zerolinecolor": "white"
           },
           "yaxis": {
            "backgroundcolor": "#E5ECF6",
            "gridcolor": "white",
            "gridwidth": 2,
            "linecolor": "white",
            "showbackground": true,
            "ticks": "",
            "zerolinecolor": "white"
           },
           "zaxis": {
            "backgroundcolor": "#E5ECF6",
            "gridcolor": "white",
            "gridwidth": 2,
            "linecolor": "white",
            "showbackground": true,
            "ticks": "",
            "zerolinecolor": "white"
           }
          },
          "shapedefaults": {
           "line": {
            "color": "#2a3f5f"
           }
          },
          "ternary": {
           "aaxis": {
            "gridcolor": "white",
            "linecolor": "white",
            "ticks": ""
           },
           "baxis": {
            "gridcolor": "white",
            "linecolor": "white",
            "ticks": ""
           },
           "bgcolor": "#E5ECF6",
           "caxis": {
            "gridcolor": "white",
            "linecolor": "white",
            "ticks": ""
           }
          },
          "title": {
           "x": 0.05
          },
          "xaxis": {
           "automargin": true,
           "gridcolor": "white",
           "linecolor": "white",
           "ticks": "",
           "title": {
            "standoff": 15
           },
           "zerolinecolor": "white",
           "zerolinewidth": 2
          },
          "yaxis": {
           "automargin": true,
           "gridcolor": "white",
           "linecolor": "white",
           "ticks": "",
           "title": {
            "standoff": 15
           },
           "zerolinecolor": "white",
           "zerolinewidth": 2
          }
         }
        },
        "title": {
         "text": "Medicare Part D Spending Forecast"
        },
        "xaxis": {
         "title": {
          "text": "Year"
         }
        },
        "yaxis": {
         "title": {
          "text": "Total Spending (Billions $)"
         }
        }
       }
      }
     },
     "metadata": {},
     "output_type": "display_data"
    },
    {
     "name": "stdout",
     "output_type": "stream",
     "text": [
      "\n",
      "Top Drug-Specific Forecasts for 2023-2024 (Millions $):\n",
      "                 Eliquis    Trulicity     Revlimid\n",
      "2023-01-01  17531.180170  7134.641213  6560.156855\n",
      "2024-01-01  19844.214565  8047.057206  6978.689293\n",
      "\n",
      "Forecasting analysis completed successfully!\n"
     ]
    }
   ],
   "source": [
    "# 03_forecasting.ipynb, still in progress\n",
    "\n",
    "import pandas as pd\n",
    "import numpy as np\n",
    "from statsmodels.tsa.holtwinters import ExponentialSmoothing\n",
    "from statsmodels.tsa.statespace.sarimax import SARIMAX\n",
    "from sklearn.metrics import mean_absolute_error, mean_squared_error\n",
    "import plotly.express as px\n",
    "import plotly.graph_objects as go\n",
    "from sqlalchemy import create_engine\n",
    "import warnings\n",
    "warnings.filterwarnings('ignore')\n",
    "\n",
    "# Database connection\n",
    "DATABASE_URI = 'postgresql://woodylin@localhost:5432/healthcare_costs'\n",
    "engine = create_engine(DATABASE_URI)\n",
    "\n",
    "# Read cleaned data\n",
    "df = pd.read_csv('../data/processed/cleaned_medicare_spending.csv')\n",
    "\n",
    "# 1. Prepare Time Series Data\n",
    "def prepare_time_series():\n",
    "    \"\"\"Prepare yearly spending data as time series\"\"\"\n",
    "    years = ['2018', '2019', '2020', '2021', '2022']\n",
    "    yearly_spending = {}\n",
    "    \n",
    "    for year in years:\n",
    "        yearly_spending[year] = df[f'Tot_Spndng_{year}'].sum()\n",
    "    \n",
    "    # Convert to time series\n",
    "    ts_data = pd.Series(yearly_spending, name='total_spending')\n",
    "    ts_data.index = pd.to_datetime(ts_data.index, format='%Y')\n",
    "    \n",
    "    return ts_data\n",
    "\n",
    "# 2. Simple Exponential Smoothing Forecast\n",
    "def exponential_smoothing_forecast(ts_data, periods=2):\n",
    "    \"\"\"Generate forecast using Exponential Smoothing\"\"\"\n",
    "    # Fit model\n",
    "    model = ExponentialSmoothing(ts_data,\n",
    "                                trend='add',\n",
    "                                seasonal=None,\n",
    "                                seasonal_periods=None)\n",
    "    fitted_model = model.fit()\n",
    "    \n",
    "    # Make forecast\n",
    "    forecast = fitted_model.forecast(periods)\n",
    "    \n",
    "    # Calculate confidence intervals using residuals\n",
    "    resid = fitted_model.resid\n",
    "    resid_std = resid.std()\n",
    "    \n",
    "    # Create forecast DataFrame with confidence intervals\n",
    "    forecast_ci = pd.DataFrame(index=forecast.index)\n",
    "    forecast_ci['forecast'] = forecast\n",
    "    forecast_ci['lower'] = forecast - 1.96 * resid_std\n",
    "    forecast_ci['upper'] = forecast + 1.96 * resid_std\n",
    "    \n",
    "    return forecast_ci\n",
    "\n",
    "# 3. SARIMA Forecast\n",
    "def sarima_forecast(ts_data, periods=2):\n",
    "    \"\"\"Generate forecast using SARIMA\"\"\"\n",
    "    # Fit SARIMA model\n",
    "    model = SARIMAX(ts_data, order=(1,1,1))\n",
    "    fitted_model = model.fit()\n",
    "    \n",
    "    # Make forecast\n",
    "    forecast = fitted_model.forecast(periods)\n",
    "    forecast_ci = fitted_model.get_forecast(periods).conf_int()\n",
    "    \n",
    "    # Combine forecast and confidence intervals\n",
    "    forecast_results = pd.DataFrame({\n",
    "        'forecast': forecast,\n",
    "        'lower': forecast_ci.iloc[:,0],\n",
    "        'upper': forecast_ci.iloc[:,1]\n",
    "    })\n",
    "    \n",
    "    return forecast_results\n",
    "\n",
    "# 4. Visualize Forecasts\n",
    "def plot_forecasts(ts_data, exp_forecast, sarima_forecast):\n",
    "    \"\"\"Create visualization of forecasts\"\"\"\n",
    "    # Create figure\n",
    "    fig = go.Figure()\n",
    "    \n",
    "    # Add historical data\n",
    "    fig.add_trace(go.Scatter(x=ts_data.index, \n",
    "                            y=ts_data.values/1e9,  # Convert to billions\n",
    "                            mode='lines+markers',\n",
    "                            name='Historical Data'))\n",
    "    \n",
    "    # Add exponential smoothing forecast\n",
    "    fig.add_trace(go.Scatter(x=exp_forecast.index, \n",
    "                            y=exp_forecast['forecast']/1e9,\n",
    "                            mode='lines',\n",
    "                            line=dict(dash='dash'),\n",
    "                            name='Exp Smoothing Forecast'))\n",
    "    \n",
    "    # Add SARIMA forecast\n",
    "    fig.add_trace(go.Scatter(x=sarima_forecast.index, \n",
    "                            y=sarima_forecast['forecast']/1e9,\n",
    "                            mode='lines',\n",
    "                            line=dict(dash='dot'),\n",
    "                            name='SARIMA Forecast'))\n",
    "    \n",
    "    # Add confidence intervals\n",
    "    fig.add_trace(go.Scatter(x=exp_forecast.index.tolist() + exp_forecast.index.tolist()[::-1],\n",
    "                            y=(exp_forecast['upper']/1e9).tolist() + (exp_forecast['lower']/1e9).tolist()[::-1],\n",
    "                            fill='toself',\n",
    "                            fillcolor='rgba(0,100,80,0.2)',\n",
    "                            line=dict(color='rgba(255,255,255,0)'),\n",
    "                            name='Exp Smoothing CI'))\n",
    "    \n",
    "    fig.update_layout(title='Medicare Part D Spending Forecast',\n",
    "                     xaxis_title='Year',\n",
    "                     yaxis_title='Total Spending (Billions $)',\n",
    "                     showlegend=True)\n",
    "    \n",
    "    return fig\n",
    "\n",
    "# 5. Drug-specific Forecasting\n",
    "def forecast_top_drugs(n_drugs=5):\n",
    "    \"\"\"Generate forecasts for top drugs by spending\"\"\"\n",
    "    # Get top drugs by 2022 spending\n",
    "    top_drugs = df.nlargest(n_drugs, 'Tot_Spndng_2022')\n",
    "    \n",
    "    forecasts = {}\n",
    "    for _, drug in top_drugs.iterrows():\n",
    "        drug_spending = pd.Series({\n",
    "            '2018': drug['Tot_Spndng_2018'],\n",
    "            '2019': drug['Tot_Spndng_2019'],\n",
    "            '2020': drug['Tot_Spndng_2020'],\n",
    "            '2021': drug['Tot_Spndng_2021'],\n",
    "            '2022': drug['Tot_Spndng_2022']\n",
    "        })\n",
    "        drug_spending.index = pd.to_datetime(drug_spending.index, format='%Y')\n",
    "        \n",
    "        # Forecast using exponential smoothing\n",
    "        model = ExponentialSmoothing(drug_spending, trend='add')\n",
    "        fitted = model.fit()\n",
    "        forecast = fitted.forecast(2)\n",
    "        \n",
    "        forecasts[drug['Brnd_Name']] = forecast\n",
    "    \n",
    "    return pd.DataFrame(forecasts)\n",
    "\n",
    "# 6. Calculate Forecast Accuracy Metrics\n",
    "def calculate_accuracy_metrics(actual, predicted):\n",
    "    \"\"\"Calculate MAE and RMSE for model evaluation\"\"\"\n",
    "    mae = mean_absolute_error(actual, predicted)\n",
    "    rmse = np.sqrt(mean_squared_error(actual, predicted))\n",
    "    return {'MAE': mae, 'RMSE': rmse}\n",
    "\n",
    "# Run forecasting analysis\n",
    "if __name__ == \"__main__\":\n",
    "    print(\"Starting Medicare Part D Spending Forecast Analysis...\\n\")\n",
    "    \n",
    "    try:\n",
    "        # Prepare time series data\n",
    "        ts_data = prepare_time_series()\n",
    "        print(\"Historical Spending Data (Billions $):\")\n",
    "        print(ts_data/1e9)\n",
    "        \n",
    "        # Generate forecasts\n",
    "        exp_forecast = exponential_smoothing_forecast(ts_data)\n",
    "        print(\"\\nExponential Smoothing Forecast for 2023-2024 (Billions $):\")\n",
    "        print(exp_forecast/1e9)\n",
    "        \n",
    "        sarima_result = sarima_forecast(ts_data)\n",
    "        print(\"\\nSARIMA Forecast for 2023-2024 (Billions $):\")\n",
    "        print(sarima_result/1e9)\n",
    "        \n",
    "        # Generate and display visualization\n",
    "        fig = plot_forecasts(ts_data, exp_forecast, sarima_result)\n",
    "        fig.show()\n",
    "        \n",
    "        # Generate drug-specific forecasts\n",
    "        top_drug_forecasts = forecast_top_drugs()\n",
    "        print(\"\\nTop Drug-Specific Forecasts for 2023-2024 (Millions $):\")\n",
    "        print(top_drug_forecasts/1e6)\n",
    "        \n",
    "        # Save forecasts\n",
    "        exp_forecast.to_csv('../data/processed/total_spending_forecast.csv')\n",
    "        top_drug_forecasts.to_csv('../data/processed/top_drugs_forecast.csv')\n",
    "        \n",
    "        print(\"\\nForecasting analysis completed successfully!\")\n",
    "        \n",
    "    except Exception as e:\n",
    "        print(f\"Error during forecasting: {str(e)}\")"
   ]
  }
 ],
 "metadata": {
  "kernelspec": {
   "display_name": "Python 3",
   "language": "python",
   "name": "python3"
  },
  "language_info": {
   "codemirror_mode": {
    "name": "ipython",
    "version": 3
   },
   "file_extension": ".py",
   "mimetype": "text/x-python",
   "name": "python",
   "nbconvert_exporter": "python",
   "pygments_lexer": "ipython3",
   "version": "3.10.16"
  }
 },
 "nbformat": 4,
 "nbformat_minor": 2
}
